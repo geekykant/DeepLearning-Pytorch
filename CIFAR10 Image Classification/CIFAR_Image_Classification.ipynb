{
  "nbformat": 4,
  "nbformat_minor": 0,
  "metadata": {
    "colab": {
      "name": "CIFAR Image Classification.ipynb",
      "version": "0.3.2",
      "provenance": [],
      "collapsed_sections": []
    },
    "kernelspec": {
      "name": "python3",
      "display_name": "Python 3"
    }
  },
  "cells": [
    {
      "cell_type": "code",
      "metadata": {
        "id": "PpvKwSYJRrjA",
        "colab_type": "code",
        "colab": {}
      },
      "source": [
        "## helper.py\n",
        "\n",
        "import matplotlib.pyplot as plt\n",
        "import numpy as np\n",
        "from torch import nn, optim\n",
        "from torch.autograd import Variable\n",
        "\n",
        "\n",
        "def imshow(image, ax=None, title=None, normalize=True):\n",
        "    \"\"\"Imshow for Tensor.\"\"\"\n",
        "    if ax is None:\n",
        "        fig, ax = plt.subplots()\n",
        "    image = image.numpy().transpose((1, 2, 0))\n",
        "\n",
        "    if normalize:\n",
        "        mean = np.array([0.485, 0.456, 0.406])\n",
        "        std = np.array([0.229, 0.224, 0.225])\n",
        "        image = std * image + mean\n",
        "        image = np.clip(image, 0, 1)\n",
        "\n",
        "    ax.imshow(image)\n",
        "    ax.spines['top'].set_visible(False)\n",
        "    ax.spines['right'].set_visible(False)\n",
        "    ax.spines['left'].set_visible(False)\n",
        "    ax.spines['bottom'].set_visible(False)\n",
        "    ax.tick_params(axis='both', length=0)\n",
        "    ax.set_xticklabels('')\n",
        "    ax.set_yticklabels('')\n",
        "\n",
        "    return ax\n",
        "\n",
        "def view_classify(img, ps, version=\"MNIST\"):\n",
        "    ''' Function for viewing an image and it's predicted classes.\n",
        "    '''\n",
        "    ps = ps.data.numpy().squeeze()\n",
        "\n",
        "    fig, (ax1, ax2) = plt.subplots(figsize=(6,9), ncols=2)\n",
        "    ax1.imshow(img.resize_(1, 32, 32).numpy().squeeze())\n",
        "    ax1.axis('off')\n",
        "    ax2.barh(np.arange(10), ps)\n",
        "    ax2.set_aspect(0.1)\n",
        "    ax2.set_yticks(np.arange(10))\n",
        "    if version == \"MNIST\":\n",
        "        ax2.set_yticklabels(np.arange(10))\n",
        "    elif version == \"CIFAR10\":\n",
        "        ax2.set_yticklabels(['plane', 'car', 'bird', 'cat', 'deer', 'dog', 'frog', 'horse', 'ship', 'truck'], size='small');\n",
        "    ax2.set_title('Class Probability')\n",
        "    ax2.set_xlim(0, 1.1)\n",
        "\n",
        "    plt.tight_layout()"
      ],
      "execution_count": 0,
      "outputs": []
    },
    {
      "cell_type": "code",
      "metadata": {
        "id": "DD6ehwGnw6HY",
        "colab_type": "code",
        "outputId": "93ec82a0-4767-4f8a-a164-0cc2621be058",
        "colab": {
          "base_uri": "https://localhost:8080/",
          "height": 34
        }
      },
      "source": [
        "import torch\n",
        "\n",
        "from torch import nn\n",
        "from torchvision import datasets, transforms\n",
        "\n",
        "from torch import optim\n",
        "\n",
        "import matplotlib\n",
        "%matplotlib inline\n",
        "\n",
        "import matplotlib.pyplot as plt\n",
        "\n",
        "#to normalize the data\n",
        "transform = transforms.Compose([transforms.ToTensor(),\n",
        "                               transforms.Normalize((0.4914, 0.4822, 0.4465), (0.2023, 0.1994, 0.2010))\n",
        "                               ])\n",
        "#downloading the dataset\n",
        "trainset = datasets.CIFAR10('~/.pytorch/CIFAR10_data', download=True, train=True, transform=transform)\n",
        "trainloader = torch.utils.data.DataLoader(trainset, batch_size=128, shuffle=True)\n",
        "\n",
        "images, labels = next(iter(trainloader))\n",
        "# imshow(images[0,:])"
      ],
      "execution_count": 198,
      "outputs": [
        {
          "output_type": "stream",
          "text": [
            "Files already downloaded and verified\n"
          ],
          "name": "stdout"
        }
      ]
    },
    {
      "cell_type": "code",
      "metadata": {
        "id": "um-fNj6fANog",
        "colab_type": "code",
        "outputId": "c8fd1245-8237-475b-ea8c-73d26084f0a0",
        "colab": {
          "base_uri": "https://localhost:8080/",
          "height": 119
        }
      },
      "source": [
        "#building model\n",
        "model = nn.Sequential(nn.Linear(3072,60),\n",
        "                      nn.ReLU(),\n",
        "                      nn.Linear(60,10),\n",
        "                      nn.LogSoftmax(dim=1))\n",
        "\n",
        "\n",
        "criterion = nn.CrossEntropyLoss()\n",
        "optimizer = optim.SGD(model.parameters(), lr=0.05)\n",
        "\n",
        "print(model)"
      ],
      "execution_count": 199,
      "outputs": [
        {
          "output_type": "stream",
          "text": [
            "Sequential(\n",
            "  (0): Linear(in_features=3072, out_features=60, bias=True)\n",
            "  (1): ReLU()\n",
            "  (2): Linear(in_features=60, out_features=10, bias=True)\n",
            "  (3): LogSoftmax()\n",
            ")\n"
          ],
          "name": "stdout"
        }
      ]
    },
    {
      "cell_type": "code",
      "metadata": {
        "id": "_QpR6ojadmCz",
        "colab_type": "code",
        "outputId": "3be514f4-ae58-4834-c6fc-a80376062069",
        "colab": {
          "base_uri": "https://localhost:8080/",
          "height": 867
        }
      },
      "source": [
        "epochs = 50\n",
        "for e in range(epochs):\n",
        "  running_loss = 0\n",
        "  for images, labels in trainloader:\n",
        "    images = images.view(images.shape[0],-1)\n",
        "#     print(images.shape)\n",
        "#     break\n",
        "    optimizer.zero_grad()\n",
        "    \n",
        "    output = model.forward(images)\n",
        "#     break\n",
        "    loss = criterion(output,labels)\n",
        "    \n",
        "    loss.backward()\n",
        "    optimizer.step()\n",
        "    \n",
        "    running_loss += loss.item()\n",
        "  else:\n",
        "    print(f\"Epoch:{e+1} Training Loss:{running_loss/len(trainloader)}\")"
      ],
      "execution_count": 200,
      "outputs": [
        {
          "output_type": "stream",
          "text": [
            "Epoch:1 Training Loss:1.688343794754399\n",
            "Epoch:2 Training Loss:1.5202107780119951\n",
            "Epoch:3 Training Loss:1.4520480318752396\n",
            "Epoch:4 Training Loss:1.4035510178417197\n",
            "Epoch:5 Training Loss:1.3663666635523062\n",
            "Epoch:6 Training Loss:1.342281121732024\n",
            "Epoch:7 Training Loss:1.3125325279772435\n",
            "Epoch:8 Training Loss:1.2920150284267142\n",
            "Epoch:9 Training Loss:1.2665984292164483\n",
            "Epoch:10 Training Loss:1.2512467220006391\n",
            "Epoch:11 Training Loss:1.2320833419594923\n",
            "Epoch:12 Training Loss:1.2205466865883459\n",
            "Epoch:13 Training Loss:1.2052521108056578\n",
            "Epoch:14 Training Loss:1.1890114635762656\n",
            "Epoch:15 Training Loss:1.1776103750824014\n",
            "Epoch:16 Training Loss:1.1697580881435852\n",
            "Epoch:17 Training Loss:1.1542447256615094\n",
            "Epoch:18 Training Loss:1.147019459920771\n",
            "Epoch:19 Training Loss:1.1342204511927827\n",
            "Epoch:20 Training Loss:1.124234664623085\n",
            "Epoch:21 Training Loss:1.1153862813244695\n",
            "Epoch:22 Training Loss:1.1050102664991412\n",
            "Epoch:23 Training Loss:1.0990398309724716\n",
            "Epoch:24 Training Loss:1.093779609178948\n",
            "Epoch:25 Training Loss:1.0721826560966803\n",
            "Epoch:26 Training Loss:1.0769417385006195\n",
            "Epoch:27 Training Loss:1.0641807130230663\n",
            "Epoch:28 Training Loss:1.0564768985104378\n",
            "Epoch:29 Training Loss:1.0515032357267102\n",
            "Epoch:30 Training Loss:1.0415679198091903\n",
            "Epoch:31 Training Loss:1.0376240187288854\n",
            "Epoch:32 Training Loss:1.0294701336594798\n",
            "Epoch:33 Training Loss:1.021988779230191\n",
            "Epoch:34 Training Loss:1.0094183206253344\n",
            "Epoch:35 Training Loss:1.0099665534770703\n",
            "Epoch:36 Training Loss:1.005655453485601\n",
            "Epoch:37 Training Loss:0.9938300033969343\n",
            "Epoch:38 Training Loss:0.9918326622689776\n",
            "Epoch:39 Training Loss:0.9894972458824782\n",
            "Epoch:40 Training Loss:0.9741852899341632\n",
            "Epoch:41 Training Loss:0.9762321559669417\n",
            "Epoch:42 Training Loss:0.9687003839351332\n",
            "Epoch:43 Training Loss:0.9607155541019976\n",
            "Epoch:44 Training Loss:0.9626005979450157\n",
            "Epoch:45 Training Loss:0.9500470909925983\n",
            "Epoch:46 Training Loss:0.9508116669057275\n",
            "Epoch:47 Training Loss:0.9439391516663534\n",
            "Epoch:48 Training Loss:0.9359061051817501\n",
            "Epoch:49 Training Loss:0.9246825010270414\n",
            "Epoch:50 Training Loss:0.9350731558811939\n"
          ],
          "name": "stdout"
        }
      ]
    },
    {
      "cell_type": "code",
      "metadata": {
        "id": "XKbG_laYFHlS",
        "colab_type": "code",
        "outputId": "24d7ecf3-f230-41e3-de72-39eefa0879aa",
        "colab": {
          "base_uri": "https://localhost:8080/",
          "height": 235
        }
      },
      "source": [
        "images, labels = next(iter(trainloader))\n",
        "\n",
        "img = images[0].view(1,3072)\n",
        "# imshow(images[0,:])\n",
        "# print(img.shape)\n",
        "\n",
        "with torch.no_grad():\n",
        "  logps = model.forward(img)\n",
        "  \n",
        "output = torch.exp(logps)\n",
        "\n",
        "# print(output.shape)\n",
        "view_classify(img, output, version=\"CIFAR10\")"
      ],
      "execution_count": 208,
      "outputs": [
        {
          "output_type": "display_data",
          "data": {
            "image/png": "[encoded data removed]",
            "text/plain": [
              "<Figure size 432x648 with 2 Axes>"
            ]
          },
          "metadata": {
            "tags": []
          }
        }
      ]
    }
  ]
}