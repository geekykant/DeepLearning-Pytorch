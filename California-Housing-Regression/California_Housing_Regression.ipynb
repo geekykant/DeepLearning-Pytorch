{
  "nbformat": 4,
  "nbformat_minor": 0,
  "metadata": {
    "colab": {
      "name": "California Housing Regression.ipynb",
      "version": "0.3.2",
      "provenance": [],
      "collapsed_sections": []
    },
    "kernelspec": {
      "name": "python3",
      "display_name": "Python 3"
    }
  },
  "cells": [
    {
      "cell_type": "code",
      "metadata": {
        "id": "1snuwZ5Rs8WQ",
        "colab_type": "code",
        "colab": {
          "base_uri": "https://localhost:8080/",
          "height": 34
        },
        "outputId": "9f3a1948-dbd2-4a01-9da9-1ed2b345e458"
      },
      "source": [
        "# !pip install torch torchvision\n",
        "\n",
        "import torch\n",
        "import torch.nn.functional as F\n",
        "from torchvision import datasets, transforms\n",
        "\n",
        "import matplotlib\n",
        "%matplotlib inline\n",
        "%config InlineBackend.figure_format = 'rectina'\n",
        "\n",
        "import matplotlib.pyplot as plt\n",
        "import pandas as pd"
      ],
      "execution_count": 1,
      "outputs": [
        {
          "output_type": "stream",
          "text": [
            "ERROR:root:supported formats are: 'png','retina','svg','png2x','jpeg','pdf','jpg' not 'rectina'\n"
          ],
          "name": "stderr"
        }
      ]
    },
    {
      "cell_type": "code",
      "metadata": {
        "id": "ibUogrpQuBTs",
        "colab_type": "code",
        "colab": {}
      },
      "source": [
        "#setting up the data\n",
        "\n",
        "# !wget 'https://storage.googleapis.com/mledu-datasets/california_housing_train.csv'\n",
        "\n",
        "df= pd.read_csv('california_housing_train.csv')\n",
        "# df.loc[0]\n"
      ],
      "execution_count": 0,
      "outputs": []
    },
    {
      "cell_type": "code",
      "metadata": {
        "id": "1xYX-ZjV5paE",
        "colab_type": "code",
        "colab": {}
      },
      "source": [
        "train_size = int(0.8 * len(df))\n",
        "test_size = len(df) - train_size\n",
        "train_dataset, test_dataset = torch.utils.data.random_split(df, [train_size, test_size])"
      ],
      "execution_count": 0,
      "outputs": []
    },
    {
      "cell_type": "code",
      "metadata": {
        "id": "sndaIznKzPhK",
        "colab_type": "code",
        "colab": {}
      },
      "source": [
        ""
      ],
      "execution_count": 0,
      "outputs": []
    }
  ]
}