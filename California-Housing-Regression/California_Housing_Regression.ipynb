{
  "nbformat": 4,
  "nbformat_minor": 0,
  "metadata": {
    "colab": {
      "name": "California Housing Regression.ipynb",
      "version": "0.3.2",
      "provenance": [],
      "collapsed_sections": []
    },
    "kernelspec": {
      "name": "python3",
      "display_name": "Python 3"
    },
    "accelerator": "GPU"
  },
  "cells": [
    {
      "cell_type": "code",
      "metadata": {
        "id": "1snuwZ5Rs8WQ",
        "colab_type": "code",
        "outputId": "bc234d9c-12f1-4a95-bbfc-69244aa024ad",
        "colab": {
          "base_uri": "https://localhost:8080/",
          "height": 34
        }
      },
      "source": [
        "# !pip install torch torchvision\n",
        "\n",
        "import torch\n",
        "import torch.nn.functional as F\n",
        "from torchvision import datasets, transforms\n",
        "\n",
        "import matplotlib\n",
        "%matplotlib inline\n",
        "%config InlineBackend.figure_format = 'rectina'\n",
        "\n",
        "import matplotlib.pyplot as plt\n",
        "import pandas as pd"
      ],
      "execution_count": 0,
      "outputs": [
        {
          "output_type": "stream",
          "text": [
            "ERROR:root:supported formats are: 'png','svg','pdf','png2x','jpg','retina','jpeg' not 'rectina'\n"
          ],
          "name": "stderr"
        }
      ]
    },
    {
      "cell_type": "code",
      "metadata": {
        "id": "ibUogrpQuBTs",
        "colab_type": "code",
        "outputId": "c2af1cce-126f-4466-e175-4acbe43e0cf3",
        "colab": {
          "base_uri": "https://localhost:8080/",
          "height": 51
        }
      },
      "source": [
        "#setting up the data\n",
        "\n",
        "# !wget 'https://storage.googleapis.com/mledu-datasets/california_housing_train.csv'\n",
        "\n",
        "df= pd.read_csv('california_housing_train.csv')\n",
        "# df.loc[0]\n",
        "\n",
        "np.array([df.iloc[6, 1:]]).astype('float')"
      ],
      "execution_count": 37,
      "outputs": [
        {
          "output_type": "execute_result",
          "data": {
            "text/plain": [
              "array([[3.3610e+01, 2.5000e+01, 2.9070e+03, 6.8000e+02, 1.8410e+03,\n",
              "        6.3300e+02, 2.6768e+00, 8.2400e+04]])"
            ]
          },
          "metadata": {
            "tags": []
          },
          "execution_count": 37
        }
      ]
    },
    {
      "cell_type": "code",
      "metadata": {
        "id": "31HSgfNIfJ7G",
        "colab_type": "code",
        "colab": {}
      },
      "source": [
        "import numpy as np\n",
        "\n",
        "class HousingDataset(Dataset):\n",
        "    def __init__(self, csv_file, root_dir):\n",
        "        \"\"\"\n",
        "        Args:\n",
        "            csv_file (string): Path to the csv file with annotations.\n",
        "            root_dir (string): Directory with all the images.\n",
        "            transform (callable, optional): Optional transform to be applied\n",
        "                on a sample.\n",
        "        \"\"\"\n",
        "        self.housing_frame = pd.read_csv(csv_file)\n",
        "\n",
        "    def __len__(self):\n",
        "        return len(self.housing_frame)\n",
        "\n",
        "    def __getitem__(self, idx):\n",
        "        if torch.is_tensor(idx):\n",
        "            idx = idx.tolist()\n",
        "            \n",
        "        landmarks = self.landmarks_frame.iloc[idx, 1:]\n",
        "        landmarks = np.array([landmarks])\n",
        "        landmarks = landmarks.astype('float')\n",
        "        sample = {'landmarks': landmarks}\n",
        "\n",
        "        return sample"
      ],
      "execution_count": 0,
      "outputs": []
    },
    {
      "cell_type": "code",
      "metadata": {
        "id": "1xYX-ZjV5paE",
        "colab_type": "code",
        "colab": {}
      },
      "source": [
        "train_size = int(0.8 * len(df))\n",
        "test_size = len(df) - train_size\n",
        "train_dataset, test_dataset = torch.utils.data.random_split(df, [train_size, test_size])"
      ],
      "execution_count": 0,
      "outputs": []
    },
    {
      "cell_type": "code",
      "metadata": {
        "id": "sndaIznKzPhK",
        "colab_type": "code",
        "colab": {}
      },
      "source": [
        "#To normalize the data\n",
        "transform = transforms.Compose([transforms.ToTensor(),\n",
        " transforms.Normalize((0.5,), (0.5,))\n",
        "])\n",
        "\n",
        "#Downloading and setting up the datas\n",
        "trainloader = torch.utils.data.DataLoader(train_dataset, batch_size=64, shuffle=True)\n",
        "testloader = torch.utils.data.DataLoader(test_dataset, batch_size=64, shuffle=True)"
      ],
      "execution_count": 0,
      "outputs": []
    },
    {
      "cell_type": "code",
      "metadata": {
        "id": "NsslfSCcsXwo",
        "colab_type": "code",
        "colab": {}
      },
      "source": [
        ""
      ],
      "execution_count": 0,
      "outputs": []
    }
  ]
}